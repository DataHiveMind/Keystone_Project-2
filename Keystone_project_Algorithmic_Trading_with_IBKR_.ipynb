{
  "nbformat": 4,
  "nbformat_minor": 0,
  "metadata": {
    "colab": {
      "provenance": []
    },
    "kernelspec": {
      "name": "python3",
      "display_name": "Python 3"
    },
    "language_info": {
      "name": "python"
    }
  },
  "cells": [
    {
      "cell_type": "code",
      "execution_count": null,
      "metadata": {
        "id": "pd8SthW2k4tp"
      },
      "outputs": [],
      "source": [
        "import pandas as pd\n",
        "import yfinance as yf\n",
        "from datatime import datetime\n",
        "from ib_insync import * util.startLoop()\n",
        "\n",
        "df = pd.read_csv(\"DJI_Const.csv\", header = [0,1], index_col = 0, parse_dates = [0])\n",
        "print(df)\n",
        "\n",
        "symbols = df.Close.columns.to_list()\n",
        "print(symbols)\n",
        "\n",
        "symbols.remove(\"DJI\")\n",
        "len(symbols)"
      ]
    },
    {
      "cell_type": "markdown",
      "source": [
        "Get most recent prices and performance"
      ],
      "metadata": {
        "id": "encXd4w0mP_v"
      }
    },
    {
      "cell_type": "code",
      "source": [
        "cprice = yf.Ticker(\"AAPL\").get_info()[\"regualerMarketPrice\"]\n",
        "print(cprice)\n",
        "\n",
        "last_close = yf.Ticker(\"AAPL\").get_info()[\"regularMarketPreviousClose\"]\n",
        "print(last_close)\n",
        "\n",
        "perf = cprice / last_close - 1\n",
        "print(perf)\n",
        "\n",
        "perf = pd.Series(dtype = float)\n",
        "print(perf)\n",
        "\n",
        "count = 1\n",
        "for symbol in symbols:\n",
        "  try:\n",
        "    info = yf.Ticker(ticker = symbol).get_info()\n",
        "    prc_chg = info[\"regularMarketPrice\"] / info[\"regularMarketPreviousClose\"] - 1\n",
        "    perf.loc[symbol] = prc_chg\n",
        "    print(count, end = \"\\r\")\n",
        "    count += 1\n",
        "  except Exception as e:\n",
        "    print(\"{} not found\".format(symbol))\n",
        "print(\"Download complete\")\n",
        "\n",
        "perf.sort_values(inplace = True)\n",
        "print(perf)\n",
        "\n",
        "perf.index.name = \"symbol\"\n",
        "print(perf)"
      ],
      "metadata": {
        "id": "Lwwr9OG9mIcz"
      },
      "execution_count": null,
      "outputs": []
    },
    {
      "cell_type": "markdown",
      "source": [
        "Determine Target Positions"
      ],
      "metadata": {
        "id": "FgN2lYKTn-ET"
      }
    },
    {
      "cell_type": "code",
      "source": [
        "buy_stocks = 3 # buy the 3 worst performing stocks\n",
        "sell_stocks = 3 # short sell the 3 best performing stocks\n",
        "shares = 1 # one share per stock\n",
        "\n",
        "perf.iloc[:buy_stocks] = shares\n",
        "perf.iloc[-sell_stocks:] = -shares\n",
        "print(perf)\n",
        "\n",
        "target = pd.concat([perf.iloc[:buy_stocks]]).to_frame().reset_index()\n",
        "target.columns = [\"symbol\", \"position\"]\n",
        "print(target)"
      ],
      "metadata": {
        "id": "--8tzNrhmIZ5"
      },
      "execution_count": null,
      "outputs": []
    },
    {
      "cell_type": "markdown",
      "source": [
        "Identify Current Positions"
      ],
      "metadata": {
        "id": "7AdM1QtYpKbk"
      }
    },
    {
      "cell_type": "code",
      "source": [
        "ib = IB()\n",
        "ib.connect()\n",
        "pos = ib.postions()\n",
        "print(pos)\n",
        "\n",
        "df = util.dif(pos)\n",
        "print(df)\n",
        "\n",
        "df[\"symbol\"] = df.contract.apply(lambda x: x.symbol)\n",
        "df[\"conID\"] = df.contract.apply(lambda x: x.conId)\n",
        "print(df)\n",
        "print(df.info())\n",
        "\n",
        "if df is not None:\n",
        "  df[\"symbol\"] = df.contract.apply(lambda x: x.symbol)\n",
        "  df[\"conID\"] = df.contract.apply(lambda x: x.conId)  \n",
        "else:\n",
        "  df = pd.DataFrame(columns = [\"symbol\", \"position\"])\n",
        "print(df)"
      ],
      "metadata": {
        "id": "U249DcMVmIXV"
      },
      "execution_count": null,
      "outputs": []
    },
    {
      "cell_type": "markdown",
      "source": [],
      "metadata": {
        "id": "zftVfg3VsqVO"
      }
    },
    {
      "cell_type": "code",
      "source": [
        "trades = pd.merge(target, df[[\"symbol\", \"position\"]], \"outer\", on = \"symbol\", suffixes = [\"_t\", \"_a\"])\n",
        "print(trades)\n",
        "\n",
        "trades.fillna(0, inplace = True)\n",
        "print(trades)\n",
        "\n",
        "trades[\"trades\"] = trades.position_t - trades.position_a\n",
        "print(trades)\n",
        "\n",
        "trades = trades[trades.trades != 0].set_index(\"symbol\").copy()\n",
        "print(trades)"
      ],
      "metadata": {
        "id": "cMhpT1pQsrNF"
      },
      "execution_count": null,
      "outputs": []
    },
    {
      "cell_type": "markdown",
      "source": [
        "Execute Trades"
      ],
      "metadata": {
        "id": "GFVY42SGuDPt"
      }
    },
    {
      "cell_type": "code",
      "source": [
        "for symbol in trades.index:\n",
        "  to_trade = trades.loc[symbol, \"trades\"]\n",
        "  if to_trade > 0:\n",
        "    side = \"BUY\"\n",
        "  elif to_trade < 0:\n",
        "    side = \"SELL\"\n",
        "  contract = Stock(symbol, \"SMART\", \"USD\")\n",
        "  cds = ib.reqContractDetials(contract)\n",
        "  if len(cds) == 0:\n",
        "    print(\"No Contract for {} found\").format(symbol))\n",
        "  elif len(cds) == 1:\n",
        "    contract = cds[0].contract\n",
        "    order = MarketOrder(side, abs(to_trade))\n",
        "    trade = ib.placeOrder(contract, order)\n",
        "    while not trade.isDone():\n",
        "      ib.waitOnUpdate()\n",
        "    if trade.orderStatus.status == \"Filled\":\n",
        "      print(\"{} {} @ {}\". format(side, symbol, trade.orderStatus.vgFillPrice))\n",
        "    else:\n",
        "      print(\"{} {} failed.\".format(side, symbol))\n",
        "  else:\n",
        "    contract = cds[0].contract\n",
        "    print(\"Multiple Contracts for {} found.\".format(symbol))\n",
        "    order = MarketOrder(side, abs(to_trade))\n",
        "    trade = ib.placeOrder(contract, order)\n",
        "    while not trade.isDone():\n",
        "      ib.waitOnUpdate()\n",
        "    if trade.orderStatus.status == \"Filled\":\n",
        "      print(\"{} {} @ {}\".format(side, symbol, trade.orderStatus.avgFillPrice))\n",
        "    else:\n",
        "      print(\"{} {} failed.\". format(side, symbol))\n",
        "pos = ib.positions()\n",
        "df = util.df(pos)\n",
        "df[\"symbol\"] = df.contract.apply(lambda x: x.symbol)\n",
        "df[\"conID\"] = df.contract.apply(lambda x: x.conId)\n",
        "print(df)"
      ],
      "metadata": {
        "id": "v4SfJVOJsrIP"
      },
      "execution_count": null,
      "outputs": []
    }
  ]
}